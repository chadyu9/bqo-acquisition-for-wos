{
 "cells": [
  {
   "cell_type": "markdown",
   "metadata": {},
   "source": [
    "# An Analytic Example of Bayesian Quadrature Optimization"
   ]
  },
  {
   "cell_type": "markdown",
   "metadata": {},
   "source": [
    "## 0. Imports"
   ]
  },
  {
   "cell_type": "code",
   "execution_count": 1,
   "metadata": {},
   "outputs": [],
   "source": [
    "import sys\n",
    "import os\n",
    "sys.path.append(os.path.dirname(os.getcwd()))"
   ]
  },
  {
   "cell_type": "code",
   "execution_count": 2,
   "metadata": {},
   "outputs": [],
   "source": [
    "import numpy as np\n",
    "import jax.numpy as jnp\n",
    "import random\n",
    "from bqo_acquisition_for_wos.sbq import SBQ\n",
    "from bqo_acquisition_for_wos.kernel import rbf\n",
    "from functools import partial\n",
    "from scipy.stats import norm\n",
    "import matplotlib.pyplot as plt\n",
    "from emukit.examples.vanilla_bayesian_quadrature_with_rbf.vanilla_bq_loop_with_rbf import create_vanilla_bq_loop_with_rbf_kernel\n",
    "from emukit.quadrature.measures.gaussian_measure import GaussianMeasure"
   ]
  },
  {
   "cell_type": "markdown",
   "metadata": {},
   "source": [
    "## 1. Example Set Up\n",
    "In this example, we present an example problem in the Bayesian Quadrature Optimization setting with a simple analytic test function. Specifically, for $F(\\theta, x) = -\\theta^2 + x$, we want to solve the optimization problem $$\\max_{[-1/2, 1/2]} \\int_{x} F(\\theta, x)p(x) dx$$ where $p(x)$ is the density of a standard Gaussian random variable. "
   ]
  },
  {
   "cell_type": "code",
   "execution_count": 3,
   "metadata": {},
   "outputs": [],
   "source": [
    "# Define the analytic function that we are going to set up a basic experiment with baselines with\n",
    "def F(theta,x):\n",
    "    return -theta ** 2 + x\n",
    "\n",
    "# Define the ground truth of the integral of f w.r.t probability distribution p(x)\n",
    "def G(theta):\n",
    "    return -theta ** 2\n",
    "\n",
    "# The range of x points\n",
    "THETA_RANGE = [-1/2, 1/2]"
   ]
  },
  {
   "cell_type": "markdown",
   "metadata": {},
   "source": [
    "## 2. Random Search Baseline"
   ]
  },
  {
   "cell_type": "markdown",
   "metadata": {},
   "source": [
    "First, we will implement a basic random search baseline for this problem. This involves, for a fixed number of iterations $N$, the following:\n",
    "1. Choose a random parameter $\\theta\\in[-1/2,1/2]$ uniformly\n",
    "2. Estimate $\\int_x F(\\theta, x)p(x)dx$ with Bayesian Quadrature (run $T$ posterior updates for some fixed $T$)\n",
    "3. Keep track of the mean of the current posterior distribution\n",
    "\n",
    "At the end of the $N$ iterations, we will return the last (current) estimate. To keep computational time for this example relatively reasonable, we choose a $T$ and $N$ accordingly."
   ]
  },
  {
   "cell_type": "code",
   "execution_count": null,
   "metadata": {},
   "outputs": [],
   "source": [
    "# How many steps to run BQ and how many times to run random search loop\n",
    "T = 20\n",
    "N = 10\n",
    "\n",
    "# Constants for plotting\n",
    "LEGEND_SIZE = 15\n",
    "FIGURE_SIZE = (12, 8)"
   ]
  },
  {
   "cell_type": "code",
   "execution_count": null,
   "metadata": {},
   "outputs": [
    {
     "name": "stdout",
     "output_type": "stream",
     "text": [
      "Iteration 1/10\n",
      "Iteration 2/10\n",
      "Iteration 3/10\n",
      "Iteration 4/10\n",
      "Iteration 5/10\n",
      "Iteration 6/10\n",
      "Iteration 7/10\n",
      "Iteration 8/10\n",
      "Iteration 9/10\n",
      "Iteration 10/10\n"
     ]
    }
   ],
   "source": [
    "# Initialize current BQ loop\n",
    "bq_loop = None\n",
    "for _ in range(N):\n",
    "    # Log every 10 iterations\n",
    "    if (_ + 1) % 10 == 0:\n",
    "        print(f\"Iteration: {_ + 1}/{N}\")\n",
    "\n",
    "    # Initialize the starting data for underlying GP model (starting x points are fixed)\n",
    "    X_init = np.array([[-0.5], [0.1], [0.4]])\n",
    "    theta = random.uniform(*THETA_RANGE)\n",
    "    Y_init = np.array([F(theta, x) for x in X_init]).reshape(-1, 1)\n",
    "\n",
    "    # Create the BQ loop with RBF kernel\n",
    "    bq_loop = create_vanilla_bq_loop_with_rbf_kernel(X_init, Y_init, measure=GaussianMeasure(mean=np.array([0]), variance=1.0))\n",
    "    user_f = partial(F, theta)\n",
    "\n",
    "    # Run the BQ loop\n",
    "    bq_loop.run_loop(user_f, T)\n",
    "\n",
    "# Get the final posterior mean as the esimate\n",
    "x_mesh = np.linspace(*THETA_RANGE, 300).reshape(-1,1)\n",
    "estimate = bq_loop.model.integrate()[0]"
   ]
  },
  {
   "cell_type": "code",
   "execution_count": 27,
   "metadata": {},
   "outputs": [
    {
     "name": "stdout",
     "output_type": "stream",
     "text": [
      "True max:  0\n",
      "Estimate:  -0.16150841968891633\n",
      "Error:  0.16150841968891633\n"
     ]
    }
   ],
   "source": [
    "# Compare with ground truth and print results\n",
    "true_max = 0\n",
    "print(\"True max: \", true_max)\n",
    "print(\"Estimate: \", estimate)\n",
    "print(\"Error: \", abs(true_max - estimate))"
   ]
  },
  {
   "cell_type": "markdown",
   "metadata": {},
   "source": [
    "## 3. Random Search Variant Baseline"
   ]
  },
  {
   "cell_type": "markdown",
   "metadata": {},
   "source": [
    "Next, we will implement a random search variant in the spirit of Gittins Index based experiments. First, we will divide the interval $[-1/2, 1/2]$ into a mesh of some $n$ number of equally spaced points. We will create a `spaces` array of length $n$ for which `spaces[i]` represents the number of times point $i$ has been visited. Then, for $N$ iterations and a fixed $T$ representing the length of each SBQ procedure, we will do the following:\n",
    "1. Choose a random integer $i$ from $0$ to $n$\n",
    "2. If `spaces[i] != T`: \n",
    "    - Get the function evaluation $f(\\theta_i, x_{spaces[i]})$ (the sequence of $x$ points are fixed by the initial points in BQ model)\n",
    "    - Increment `spaces[i]`\n",
    "    - If `spaces[i] == T`:\n",
    "        - Find the posterior mean of the BQ model with the function evaluations and the given $x$ points, and if this posterior mean is larger than the running max, set it as the max estimate\n",
    "3. Return the max posterior mean"
   ]
  },
  {
   "cell_type": "code",
   "execution_count": null,
   "metadata": {},
   "outputs": [],
   "source": [
    "# Set constants for this procedure\n",
    "n_mesh = 50\n",
    "N = 500\n",
    "T = 20"
   ]
  },
  {
   "cell_type": "code",
   "execution_count": null,
   "metadata": {},
   "outputs": [],
   "source": [
    "# Set inital X points and set up the mesh in theta-space of n_mesh points, and initialize the \"spaces\" and function evals arrays\n",
    "X_init = jnp.array([[-0.5], [0.1], [0.4]])\n",
    "theta_mesh = jnp.linspace(*THETA_RANGE, n_mesh)\n",
    "spaces = [0] * n_mesh\n",
    "function_evals = jnp.zeros((n_mesh, T + 3))\n",
    "\n",
    "# Fill the first three columns of function_evals with evaluations of the function F at the initial X points\n",
    "function_evals[:, :3] = jnp.array([[F(theta, x) for x in X_init] for theta in theta_mesh]).T\n",
    "\n",
    "# Create the SBQ object and determine the order of x points from the SBQ procedure\n",
    "sbq = SBQ(rbf, norm, [[-1000], [1000]], X_init)\n",
    "sbq.run_sbq_procedure(n_steps=T)\n",
    "\n",
    "# Keep track of maximum posterior mean across the theta space (our mesh)\n",
    "max_posterior_mean = 0\n",
    "\n",
    "# Run the iterations of the random search variant\n",
    "for _ in range(N):\n",
    "    # Log every 10 iterations\n",
    "    if (_ + 1) % 10 == 0:\n",
    "        print(f\"Iteration: {_ + 1}/{N}\")\n",
    "\n",
    "    # Get a random theta from the mesh\n",
    "    i = random.randint(0, n_mesh - 1)\n",
    "    theta = theta_mesh[i]\n",
    "\n",
    "    # If the theta has not been sampled T times, reveal a function evaluation\n",
    "    if spaces[i] < T:\n",
    "        function_evals[i][spaces[i]] = F(theta, X_init[spaces[i]])\n",
    "        spaces[i] += 1\n",
    "\n",
    "        # If we have sampled T times, we can compute the BQ estimate\n",
    "        if spaces[i] == T:\n",
    "            sbq.reset_Y()\n",
    "            sbq.add_Y(function_evals[i])\n",
    "            max_posterior_mean = max(max_posterior_mean, sbq.posterior_mean())\n",
    "\n",
    "# Print the maximum posterior mean found\n",
    "print(\"Maximum posterior mean found: \", max_posterior_mean)"
   ]
  },
  {
   "cell_type": "markdown",
   "metadata": {},
   "source": [
    "Plot: Regret (mean deviation from ground truth + standard error at each time step in the loop vs. loop iterations/time steps)"
   ]
  },
  {
   "cell_type": "markdown",
   "metadata": {},
   "source": [
    "## 3. Thompson Sampling Baseline\n",
    "For the final baseline, we will employ a Thompson sampling style baseline. In the last procedure, when obtaining a function evaluation, instead of exact function evaluations, we will sample a path from the GP posterior conditioned on all the $x$ points and $y$ values seen up to that point. Specifically, we will divide $[-1/2, 1/2]$ into a mesh of $n$ points again, have `spaces` and $T$ signify the same variables as before, and do the following for $N$ iterations:\n",
    "1. Choose a random integer $i$ from $0$ to $n$\n",
    "2. If `spaces[i] != T`: \n",
    "    - Get the function evaluation as the $y$-value along a sample path from $GP(\\mathbf{y}\\mid x_0, \\dots x_{spaces[i]-1}, y_0, \\dots y_{spaces[i]-1})$ at $x_{spaces[i]}$\n",
    "    - Increment `spaces[i]`\n",
    "    - If `spaces[i] == T`:\n",
    "        - Find the posterior mean of the BQ model with the function evaluations and the given $x$ points, and if this posterior mean is larger than the running max, set it as the max estimate\n",
    "3. Return the max posterior mean"
   ]
  },
  {
   "cell_type": "code",
   "execution_count": 4,
   "metadata": {},
   "outputs": [
    {
     "ename": "ValueError",
     "evalue": "not enough values to unpack (expected 2, got 1)",
     "output_type": "error",
     "traceback": [
      "\u001b[31m---------------------------------------------------------------------------\u001b[39m",
      "\u001b[31mValueError\u001b[39m                                Traceback (most recent call last)",
      "\u001b[36mCell\u001b[39m\u001b[36m \u001b[39m\u001b[32mIn[4]\u001b[39m\u001b[32m, line 4\u001b[39m\n\u001b[32m      2\u001b[39m theta = -\u001b[32m0.1\u001b[39m\n\u001b[32m      3\u001b[39m X_init = jnp.array([[-\u001b[32m0.5\u001b[39m], [\u001b[32m0.1\u001b[39m], [\u001b[32m0.4\u001b[39m]])\n\u001b[32m----> \u001b[39m\u001b[32m4\u001b[39m sbq = \u001b[43mSBQ\u001b[49m\u001b[43m(\u001b[49m\u001b[43mrbf\u001b[49m\u001b[43m,\u001b[49m\u001b[43m \u001b[49m\u001b[43mnorm\u001b[49m\u001b[43m,\u001b[49m\u001b[43m \u001b[49m\u001b[43m[\u001b[49m\u001b[43m[\u001b[49m\u001b[43m-\u001b[49m\u001b[32;43m1000\u001b[39;49m\u001b[43m]\u001b[49m\u001b[43m,\u001b[49m\u001b[43m \u001b[49m\u001b[43m[\u001b[49m\u001b[32;43m1000\u001b[39;49m\u001b[43m]\u001b[49m\u001b[43m]\u001b[49m\u001b[43m,\u001b[49m\u001b[43m \u001b[49m\u001b[43mX_init\u001b[49m\u001b[43m)\u001b[49m\n\u001b[32m      5\u001b[39m sbq.run_sbq_procedure(n_steps=T)\n\u001b[32m      7\u001b[39m \u001b[38;5;66;03m# Add the Y values for the given theta\u001b[39;00m\n",
      "\u001b[36mFile \u001b[39m\u001b[32m~/Documents/Chad/Cornell/bqo-acquisition-for-wos/bqo_acquisition_for_wos/sbq.py:30\u001b[39m, in \u001b[36mSBQ.__init__\u001b[39m\u001b[34m(self, kernel, pdf, bounds, X_init, Y_init)\u001b[39m\n\u001b[32m     27\u001b[39m \u001b[38;5;28mself\u001b[39m.zs = jnp.array([])\n\u001b[32m     29\u001b[39m \u001b[38;5;66;03m# Update the zs array with the z values for the current X\u001b[39;00m\n\u001b[32m---> \u001b[39m\u001b[32m30\u001b[39m \u001b[38;5;28;43mself\u001b[39;49m\u001b[43m.\u001b[49m\u001b[43mupdate_zs\u001b[49m\u001b[43m(\u001b[49m\u001b[43m)\u001b[49m\n",
      "\u001b[36mFile \u001b[39m\u001b[32m~/Documents/Chad/Cornell/bqo-acquisition-for-wos/bqo_acquisition_for_wos/sbq.py:51\u001b[39m, in \u001b[36mSBQ.update_zs\u001b[39m\u001b[34m(self)\u001b[39m\n\u001b[32m     45\u001b[39m \u001b[38;5;250m\u001b[39m\u001b[33;03m\"\"\"\u001b[39;00m\n\u001b[32m     46\u001b[39m \u001b[33;03mUpdate the zs array with the z values for the current X, if not yet done.\u001b[39;00m\n\u001b[32m     47\u001b[39m \u001b[33;03mThis is used to avoid recomputing the zs array every time.\u001b[39;00m\n\u001b[32m     48\u001b[39m \u001b[33;03m\"\"\"\u001b[39;00m\n\u001b[32m     49\u001b[39m \u001b[38;5;28;01mwhile\u001b[39;00m \u001b[38;5;28mlen\u001b[39m(\u001b[38;5;28mself\u001b[39m.zs) < \u001b[38;5;28mlen\u001b[39m(\u001b[38;5;28mself\u001b[39m.X):\n\u001b[32m     50\u001b[39m     \u001b[38;5;66;03m# Compute the z value for the current X\u001b[39;00m\n\u001b[32m---> \u001b[39m\u001b[32m51\u001b[39m     z = \u001b[38;5;28;43mself\u001b[39;49m\u001b[43m.\u001b[49m\u001b[43mcompute_z_value\u001b[49m\u001b[43m(\u001b[49m\u001b[38;5;28;43mself\u001b[39;49m\u001b[43m.\u001b[49m\u001b[43mX\u001b[49m\u001b[43m[\u001b[49m\u001b[38;5;28;43mlen\u001b[39;49m\u001b[43m(\u001b[49m\u001b[38;5;28;43mself\u001b[39;49m\u001b[43m.\u001b[49m\u001b[43mzs\u001b[49m\u001b[43m)\u001b[49m\u001b[43m]\u001b[49m\u001b[43m)\u001b[49m\n\u001b[32m     52\u001b[39m     \u001b[38;5;28mself\u001b[39m.zs = jnp.append(\u001b[38;5;28mself\u001b[39m.zs, z)\n",
      "\u001b[36mFile \u001b[39m\u001b[32m~/Documents/Chad/Cornell/bqo-acquisition-for-wos/bqo_acquisition_for_wos/sbq.py:40\u001b[39m, in \u001b[36mSBQ.compute_z_value\u001b[39m\u001b[34m(self, x)\u001b[39m\n\u001b[32m     32\u001b[39m \u001b[38;5;28;01mdef\u001b[39;00m\u001b[38;5;250m \u001b[39m\u001b[34mcompute_z_value\u001b[39m(\u001b[38;5;28mself\u001b[39m, x):\n\u001b[32m     33\u001b[39m \u001b[38;5;250m    \u001b[39m\u001b[33;03m\"\"\"\u001b[39;00m\n\u001b[32m     34\u001b[39m \u001b[33;03m    Compute the z value for a given x using the kernel and pdf.\u001b[39;00m\n\u001b[32m     35\u001b[39m \u001b[33;03m    Args:\u001b[39;00m\n\u001b[32m   (...)\u001b[39m\u001b[32m     38\u001b[39m \u001b[33;03m        The computed z value.\u001b[39;00m\n\u001b[32m     39\u001b[39m \u001b[33;03m    \"\"\"\u001b[39;00m\n\u001b[32m---> \u001b[39m\u001b[32m40\u001b[39m     \u001b[38;5;28;01mreturn\u001b[39;00m \u001b[43mscipy\u001b[49m\u001b[43m.\u001b[49m\u001b[43mintegrate\u001b[49m\u001b[43m.\u001b[49m\u001b[43mnquad\u001b[49m\u001b[43m(\u001b[49m\n\u001b[32m     41\u001b[39m \u001b[43m        \u001b[49m\u001b[38;5;28;43;01mlambda\u001b[39;49;00m\u001b[43m \u001b[49m\u001b[43my\u001b[49m\u001b[43m:\u001b[49m\u001b[43m \u001b[49m\u001b[38;5;28;43mself\u001b[39;49m\u001b[43m.\u001b[49m\u001b[43mkernel\u001b[49m\u001b[43m(\u001b[49m\u001b[43mx\u001b[49m\u001b[43m,\u001b[49m\u001b[43m \u001b[49m\u001b[43my\u001b[49m\u001b[43m)\u001b[49m\u001b[43m \u001b[49m\u001b[43m*\u001b[49m\u001b[43m \u001b[49m\u001b[38;5;28;43mself\u001b[39;49m\u001b[43m.\u001b[49m\u001b[43mpdf\u001b[49m\u001b[43m(\u001b[49m\u001b[43my\u001b[49m\u001b[43m)\u001b[49m\u001b[43m,\u001b[49m\u001b[43m \u001b[49m\u001b[38;5;28;43mself\u001b[39;49m\u001b[43m.\u001b[49m\u001b[43mbounds\u001b[49m\n\u001b[32m     42\u001b[39m \u001b[43m    \u001b[49m\u001b[43m)\u001b[49m[\u001b[32m0\u001b[39m]\n",
      "\u001b[36mFile \u001b[39m\u001b[32m~/Documents/Chad/Cornell/bqo-acquisition-for-wos/venv/lib/python3.11/site-packages/scipy/integrate/_quadpack_py.py:1218\u001b[39m, in \u001b[36mnquad\u001b[39m\u001b[34m(func, ranges, args, opts, full_output)\u001b[39m\n\u001b[32m   1216\u001b[39m \u001b[38;5;28;01melse\u001b[39;00m:\n\u001b[32m   1217\u001b[39m     opts = [opt \u001b[38;5;28;01mif\u001b[39;00m \u001b[38;5;28mcallable\u001b[39m(opt) \u001b[38;5;28;01melse\u001b[39;00m _OptFunc(opt) \u001b[38;5;28;01mfor\u001b[39;00m opt \u001b[38;5;129;01min\u001b[39;00m opts]\n\u001b[32m-> \u001b[39m\u001b[32m1218\u001b[39m \u001b[38;5;28;01mreturn\u001b[39;00m \u001b[43m_NQuad\u001b[49m\u001b[43m(\u001b[49m\u001b[43mfunc\u001b[49m\u001b[43m,\u001b[49m\u001b[43m \u001b[49m\u001b[43mranges\u001b[49m\u001b[43m,\u001b[49m\u001b[43m \u001b[49m\u001b[43mopts\u001b[49m\u001b[43m,\u001b[49m\u001b[43m \u001b[49m\u001b[43mfull_output\u001b[49m\u001b[43m)\u001b[49m\u001b[43m.\u001b[49m\u001b[43mintegrate\u001b[49m\u001b[43m(\u001b[49m\u001b[43m*\u001b[49m\u001b[43margs\u001b[49m\u001b[43m)\u001b[49m\n",
      "\u001b[36mFile \u001b[39m\u001b[32m~/Documents/Chad/Cornell/bqo-acquisition-for-wos/venv/lib/python3.11/site-packages/scipy/integrate/_quadpack_py.py:1262\u001b[39m, in \u001b[36m_NQuad.integrate\u001b[39m\u001b[34m(self, *args, **kwargs)\u001b[39m\n\u001b[32m   1260\u001b[39m ind = -(depth + \u001b[32m1\u001b[39m)\n\u001b[32m   1261\u001b[39m fn_range = \u001b[38;5;28mself\u001b[39m.ranges[ind]\n\u001b[32m-> \u001b[39m\u001b[32m1262\u001b[39m low, high = fn_range(*args)\n\u001b[32m   1263\u001b[39m fn_opt = \u001b[38;5;28mself\u001b[39m.opts[ind]\n\u001b[32m   1264\u001b[39m opt = \u001b[38;5;28mdict\u001b[39m(fn_opt(*args))\n",
      "\u001b[31mValueError\u001b[39m: not enough values to unpack (expected 2, got 1)"
     ]
    }
   ],
   "source": [
    "# Test for the SBQ class\n",
    "theta = -0.1\n",
    "X_init = jnp.array([[-0.5], [0.1], [0.4]])\n",
    "sbq = SBQ(rbf, norm, [[-1000], [1000]], X_init)\n",
    "sbq.run_sbq_procedure(n_steps=T)\n",
    "\n",
    "# Add the Y values for the given theta\n",
    "Y_values = jnp.array([F(theta, x) for x in X_init]).reshape(-1, 1)\n",
    "sbq.add_Y(Y_values)\n",
    "\n",
    "# Get the posterior mean for the given theta\n",
    "posterior_mean = sbq.posterior_mean(theta)\n",
    "print(f\"Posterior mean for theta={theta}: {posterior_mean}\")"
   ]
  }
 ],
 "metadata": {
  "kernelspec": {
   "display_name": "venv",
   "language": "python",
   "name": "python3"
  },
  "language_info": {
   "codemirror_mode": {
    "name": "ipython",
    "version": 3
   },
   "file_extension": ".py",
   "mimetype": "text/x-python",
   "name": "python",
   "nbconvert_exporter": "python",
   "pygments_lexer": "ipython3",
   "version": "3.11.8"
  }
 },
 "nbformat": 4,
 "nbformat_minor": 2
}
